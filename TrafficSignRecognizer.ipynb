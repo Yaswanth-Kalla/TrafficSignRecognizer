{
 "cells": [
  {
   "cell_type": "code",
   "execution_count": 3,
   "id": "46f1924f-fbca-4eb8-9aed-5ab8963540c1",
   "metadata": {},
   "outputs": [
    {
     "name": "stdout",
     "output_type": "stream",
     "text": [
      "WARNING:tensorflow:From C:\\Users\\yaswa\\anaconda3\\Lib\\site-packages\\keras\\src\\losses.py:2976: The name tf.losses.sparse_softmax_cross_entropy is deprecated. Please use tf.compat.v1.losses.sparse_softmax_cross_entropy instead.\n",
      "\n"
     ]
    }
   ],
   "source": [
    "import tensorflow as tf\n",
    "from tensorflow.keras.models import Sequential\n",
    "from tensorflow.keras.layers import Conv2D, MaxPooling2D, Flatten, Dense, Dropout, BatchNormalization\n",
    "from tensorflow.keras.preprocessing.image import ImageDataGenerator\n",
    "from sklearn.model_selection import train_test_split\n",
    "import numpy as np\n",
    "import os\n",
    "\n",
    "# Example: Load dataset (replace with your dataset path and labels)\n",
    "def load_data(data_dir):\n",
    "    images, labels = [], []\n",
    "    for label in os.listdir(data_dir):\n",
    "        label_path = os.path.join(data_dir, label)\n",
    "        for img_file in os.listdir(label_path):\n",
    "            img_path = os.path.join(label_path, img_file)\n",
    "            img = tf.keras.preprocessing.image.load_img(img_path, target_size=(64, 64))\n",
    "            img_array = tf.keras.preprocessing.image.img_to_array(img)\n",
    "            images.append(img_array)\n",
    "            labels.append(int(label))\n",
    "    return np.array(images), np.array(labels)\n",
    "\n",
    "data_dir = \"C:/Users/yaswa/Downloads/archive/Train\"\n",
    "X, y = load_data(data_dir)\n",
    "\n",
    "# Normalize and split the dataset\n",
    "X = X / 255.0  # Normalize pixel values\n",
    "X_train, X_test, y_train, y_test = train_test_split(X, y, test_size=0.2, random_state=42)\n",
    "\n",
    "# Convert labels to one-hot encoding\n",
    "num_classes = len(np.unique(y))\n",
    "y_train = tf.keras.utils.to_categorical(y_train, num_classes)\n",
    "y_test = tf.keras.utils.to_categorical(y_test, num_classes)\n"
   ]
  },
  {
   "cell_type": "code",
   "execution_count": 5,
   "id": "47d24a45-3a3a-452b-bf9f-c5d25c6d31a0",
   "metadata": {},
   "outputs": [],
   "source": [
    "def create_traffic_sign_cnn(input_shape, num_classes):\n",
    "    model = Sequential([\n",
    "        # First Convolutional Block\n",
    "        Conv2D(32, (3, 3), activation='relu', input_shape=input_shape),\n",
    "        BatchNormalization(),\n",
    "        MaxPooling2D(pool_size=(2, 2)),\n",
    "        Dropout(0.25),\n",
    "        \n",
    "        # Second Convolutional Block\n",
    "        Conv2D(64, (3, 3), activation='relu'),\n",
    "        BatchNormalization(),\n",
    "        MaxPooling2D(pool_size=(2, 2)),\n",
    "        Dropout(0.25),\n",
    "        \n",
    "        # Third Convolutional Block\n",
    "        Conv2D(128, (3, 3), activation='relu'),\n",
    "        BatchNormalization(),\n",
    "        MaxPooling2D(pool_size=(2, 2)),\n",
    "        Dropout(0.25),\n",
    "        \n",
    "        # Fully Connected Layers\n",
    "        Flatten(),\n",
    "        Dense(256, activation='relu'),\n",
    "        BatchNormalization(),\n",
    "        Dropout(0.5),\n",
    "        Dense(num_classes, activation='softmax')\n",
    "    ])\n",
    "    return model\n"
   ]
  },
  {
   "cell_type": "code",
   "execution_count": 7,
   "id": "e4d82bd5-2482-4b16-82ef-eb2e69a472e5",
   "metadata": {},
   "outputs": [
    {
     "name": "stdout",
     "output_type": "stream",
     "text": [
      "WARNING:tensorflow:From C:\\Users\\yaswa\\anaconda3\\Lib\\site-packages\\keras\\src\\backend.py:873: The name tf.get_default_graph is deprecated. Please use tf.compat.v1.get_default_graph instead.\n",
      "\n",
      "WARNING:tensorflow:From C:\\Users\\yaswa\\anaconda3\\Lib\\site-packages\\keras\\src\\layers\\pooling\\max_pooling2d.py:161: The name tf.nn.max_pool is deprecated. Please use tf.nn.max_pool2d instead.\n",
      "\n",
      "WARNING:tensorflow:From C:\\Users\\yaswa\\anaconda3\\Lib\\site-packages\\keras\\src\\optimizers\\__init__.py:309: The name tf.train.Optimizer is deprecated. Please use tf.compat.v1.train.Optimizer instead.\n",
      "\n"
     ]
    }
   ],
   "source": [
    "model = create_traffic_sign_cnn((64, 64, 3), num_classes)\n",
    "model.compile(optimizer='adam',\n",
    "              loss='categorical_crossentropy',\n",
    "              metrics=['accuracy'])\n"
   ]
  },
  {
   "cell_type": "code",
   "execution_count": 9,
   "id": "e45e73b0-397e-40ea-9b8d-6a884ea339db",
   "metadata": {},
   "outputs": [],
   "source": [
    "datagen = ImageDataGenerator(\n",
    "    rotation_range=10,\n",
    "    width_shift_range=0.1,\n",
    "    height_shift_range=0.1,\n",
    "    shear_range=0.1,\n",
    "    zoom_range=0.1,\n",
    "    horizontal_flip=False,  # Horizontal flip might not make sense for traffic signs\n",
    "    fill_mode='nearest'\n",
    ")\n",
    "datagen.fit(X_train)\n"
   ]
  },
  {
   "cell_type": "code",
   "execution_count": 11,
   "id": "b5a66a99-beea-4b83-9e11-07e0b8abb7de",
   "metadata": {},
   "outputs": [
    {
     "name": "stdout",
     "output_type": "stream",
     "text": [
      "Epoch 1/25\n",
      "WARNING:tensorflow:From C:\\Users\\yaswa\\anaconda3\\Lib\\site-packages\\keras\\src\\utils\\tf_utils.py:492: The name tf.ragged.RaggedTensorValue is deprecated. Please use tf.compat.v1.ragged.RaggedTensorValue instead.\n",
      "\n",
      "WARNING:tensorflow:From C:\\Users\\yaswa\\anaconda3\\Lib\\site-packages\\keras\\src\\engine\\base_layer_utils.py:384: The name tf.executing_eagerly_outside_functions is deprecated. Please use tf.compat.v1.executing_eagerly_outside_functions instead.\n",
      "\n",
      "980/980 [==============================] - 63s 61ms/step - loss: 1.5389 - accuracy: 0.5717 - val_loss: 0.3098 - val_accuracy: 0.9065\n",
      "Epoch 2/25\n",
      "980/980 [==============================] - 59s 61ms/step - loss: 0.4184 - accuracy: 0.8712 - val_loss: 0.0737 - val_accuracy: 0.9805\n",
      "Epoch 3/25\n",
      "980/980 [==============================] - 59s 60ms/step - loss: 0.2599 - accuracy: 0.9197 - val_loss: 0.0755 - val_accuracy: 0.9832\n",
      "Epoch 4/25\n",
      "980/980 [==============================] - 94s 96ms/step - loss: 0.1902 - accuracy: 0.9395 - val_loss: 0.0274 - val_accuracy: 0.9916\n",
      "Epoch 5/25\n",
      "980/980 [==============================] - 59s 61ms/step - loss: 0.1564 - accuracy: 0.9523 - val_loss: 0.0290 - val_accuracy: 0.9909\n",
      "Epoch 6/25\n",
      "980/980 [==============================] - 60s 61ms/step - loss: 0.1436 - accuracy: 0.9547 - val_loss: 0.0251 - val_accuracy: 0.9938\n",
      "Epoch 7/25\n",
      "980/980 [==============================] - 59s 60ms/step - loss: 0.1226 - accuracy: 0.9623 - val_loss: 0.0107 - val_accuracy: 0.9973\n",
      "Epoch 8/25\n",
      "980/980 [==============================] - 53s 54ms/step - loss: 0.1121 - accuracy: 0.9647 - val_loss: 0.0122 - val_accuracy: 0.9964\n",
      "Epoch 9/25\n",
      "980/980 [==============================] - 51s 52ms/step - loss: 0.1018 - accuracy: 0.9679 - val_loss: 0.0125 - val_accuracy: 0.9966\n",
      "Epoch 10/25\n",
      "980/980 [==============================] - 50s 51ms/step - loss: 0.1006 - accuracy: 0.9687 - val_loss: 0.0122 - val_accuracy: 0.9967\n",
      "Epoch 11/25\n",
      "980/980 [==============================] - 51s 52ms/step - loss: 0.0880 - accuracy: 0.9715 - val_loss: 0.0091 - val_accuracy: 0.9976\n",
      "Epoch 12/25\n",
      "980/980 [==============================] - 50s 51ms/step - loss: 0.0843 - accuracy: 0.9738 - val_loss: 0.0060 - val_accuracy: 0.9986\n",
      "Epoch 13/25\n",
      "980/980 [==============================] - 52s 53ms/step - loss: 0.0751 - accuracy: 0.9757 - val_loss: 0.0362 - val_accuracy: 0.9887\n",
      "Epoch 14/25\n",
      "980/980 [==============================] - 48s 49ms/step - loss: 0.0716 - accuracy: 0.9761 - val_loss: 0.0090 - val_accuracy: 0.9967\n",
      "Epoch 15/25\n",
      "980/980 [==============================] - 50s 51ms/step - loss: 0.0706 - accuracy: 0.9769 - val_loss: 0.0073 - val_accuracy: 0.9986\n",
      "Epoch 16/25\n",
      "980/980 [==============================] - 50s 51ms/step - loss: 0.0695 - accuracy: 0.9784 - val_loss: 0.0064 - val_accuracy: 0.9987\n",
      "Epoch 17/25\n",
      "980/980 [==============================] - 50s 51ms/step - loss: 0.0692 - accuracy: 0.9783 - val_loss: 0.0064 - val_accuracy: 0.9981\n",
      "Epoch 18/25\n",
      "980/980 [==============================] - 50s 51ms/step - loss: 0.0595 - accuracy: 0.9816 - val_loss: 0.0106 - val_accuracy: 0.9969\n",
      "Epoch 19/25\n",
      "980/980 [==============================] - 48s 49ms/step - loss: 0.0574 - accuracy: 0.9816 - val_loss: 0.0062 - val_accuracy: 0.9987\n",
      "Epoch 20/25\n",
      "980/980 [==============================] - 48s 49ms/step - loss: 0.0601 - accuracy: 0.9812 - val_loss: 0.0065 - val_accuracy: 0.9976\n",
      "Epoch 21/25\n",
      "980/980 [==============================] - 48s 49ms/step - loss: 0.0548 - accuracy: 0.9827 - val_loss: 0.0071 - val_accuracy: 0.9976\n",
      "Epoch 22/25\n",
      "980/980 [==============================] - 49s 50ms/step - loss: 0.0500 - accuracy: 0.9843 - val_loss: 0.0046 - val_accuracy: 0.9980\n",
      "Epoch 23/25\n",
      "980/980 [==============================] - 49s 50ms/step - loss: 0.0460 - accuracy: 0.9855 - val_loss: 0.0051 - val_accuracy: 0.9986\n",
      "Epoch 24/25\n",
      "980/980 [==============================] - 53s 54ms/step - loss: 0.0476 - accuracy: 0.9850 - val_loss: 0.0087 - val_accuracy: 0.9971\n",
      "Epoch 25/25\n",
      "980/980 [==============================] - 53s 54ms/step - loss: 0.0484 - accuracy: 0.9854 - val_loss: 0.0049 - val_accuracy: 0.9983\n"
     ]
    }
   ],
   "source": [
    "batch_size = 32\n",
    "epochs = 25\n",
    "\n",
    "history = model.fit(\n",
    "    datagen.flow(X_train, y_train, batch_size=batch_size),\n",
    "    validation_data=(X_test, y_test),\n",
    "    epochs=epochs,\n",
    "    steps_per_epoch=len(X_train) // batch_size,\n",
    "    verbose=1\n",
    ")\n"
   ]
  },
  {
   "cell_type": "code",
   "execution_count": 12,
   "id": "7daa4318-1088-4d86-a158-0b8ed509b9e0",
   "metadata": {},
   "outputs": [
    {
     "name": "stdout",
     "output_type": "stream",
     "text": [
      "Test Accuracy: 99.83%\n"
     ]
    }
   ],
   "source": [
    "test_loss, test_accuracy = model.evaluate(X_test, y_test, verbose=0)\n",
    "print(f\"Test Accuracy: {test_accuracy * 100:.2f}%\")\n"
   ]
  },
  {
   "cell_type": "code",
   "execution_count": 15,
   "id": "7554db9d-87f6-4a89-a996-7fc9093d8251",
   "metadata": {},
   "outputs": [],
   "source": [
    "import pickle\n",
    "pickle.dump(model,open('model1.pkl','wb'))"
   ]
  },
  {
   "cell_type": "code",
   "execution_count": null,
   "id": "ec71a4b1-c523-42aa-9850-e7fe12a72bd1",
   "metadata": {},
   "outputs": [],
   "source": []
  }
 ],
 "metadata": {
  "kernelspec": {
   "display_name": "Python 3 (ipykernel)",
   "language": "python",
   "name": "python3"
  },
  "language_info": {
   "codemirror_mode": {
    "name": "ipython",
    "version": 3
   },
   "file_extension": ".py",
   "mimetype": "text/x-python",
   "name": "python",
   "nbconvert_exporter": "python",
   "pygments_lexer": "ipython3",
   "version": "3.11.7"
  }
 },
 "nbformat": 4,
 "nbformat_minor": 5
}
